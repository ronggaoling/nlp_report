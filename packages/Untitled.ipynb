{
 "cells": [
  {
   "cell_type": "code",
   "execution_count": 1,
   "metadata": {
    "ExecuteTime": {
     "end_time": "2019-05-20T06:59:12.545637Z",
     "start_time": "2019-05-20T06:59:12.529418Z"
    }
   },
   "outputs": [],
   "source": [
    "import CaboCha"
   ]
  },
  {
   "cell_type": "code",
   "execution_count": 5,
   "metadata": {
    "ExecuteTime": {
     "end_time": "2019-05-20T07:20:39.884704Z",
     "start_time": "2019-05-20T07:20:39.816755Z"
    }
   },
   "outputs": [
    {
     "name": "stdout",
     "output_type": "stream",
     "text": [
      "chunk:\n",
      "  token_begin: 0\n",
      "  token_end: 5\n",
      "  features: ['名詞', 'サ変接続', '*', '*', '*', '*', 'プログラム', 'プログラム', 'プログラム']\n",
      "  lemma: プログラム\n",
      "  POS: 名詞\n",
      "  POS2: サ変接続\n",
      "  NE: O\n",
      "\n",
      "  token_begin: 5\n",
      "  token_end: 6\n",
      "  features: ['助詞', '格助詞', '一般', '*', '*', '*', 'を', 'ヲ', 'ヲ']\n",
      "  lemma: を\n",
      "  POS: 助詞\n",
      "  POS2: 格助詞\n",
      "  NE: O\n",
      "\n",
      "chunk:\n",
      "  token_begin: 6\n",
      "  token_end: 8\n",
      "  features: ['動詞', '自立', '*', '*', '五段・ラ行', '連用タ接続', '作る', 'ツクッ', 'ツクッ']\n",
      "  lemma: 作る\n",
      "  POS: 動詞\n",
      "  POS2: 自立\n",
      "  NE: O\n",
      "\n",
      "  token_begin: 8\n",
      "  token_end: 9\n",
      "  features: ['助詞', '接続助詞', '*', '*', '*', '*', 'て', 'テ', 'テ']\n",
      "  lemma: て\n",
      "  POS: 助詞\n",
      "  POS2: 接続助詞\n",
      "  NE: O\n",
      "\n",
      "  token_begin: 9\n",
      "  token_end: 10\n",
      "  features: ['記号', '読点', '*', '*', '*', '*', '、', '、', '、']\n",
      "  lemma: 、\n",
      "  POS: 記号\n",
      "  POS2: 読点\n",
      "  NE: O\n",
      "\n",
      "chunk:\n",
      "  token_begin: 10\n",
      "  token_end: 13\n",
      "  features: ['動詞', '自立', '*', '*', '五段・サ行', '連用形', '動かす', 'ウゴカシ', 'ウゴカシ']\n",
      "  lemma: 動かす\n",
      "  POS: 動詞\n",
      "  POS2: 自立\n",
      "  NE: O\n",
      "\n",
      "  token_begin: 13\n",
      "  token_end: 16\n",
      "  features: ['助詞', '接続助詞', '*', '*', '*', '*', 'ながら', 'ナガラ', 'ナガラ']\n",
      "  lemma: ながら\n",
      "  POS: 助詞\n",
      "  POS2: 接続助詞\n",
      "  NE: O\n",
      "\n",
      "chunk:\n",
      "  token_begin: 16\n",
      "  token_end: 18\n",
      "  features: ['名詞', '形容動詞語幹', '*', '*', '*', '*', '自然', 'シゼン', 'シゼン']\n",
      "  lemma: 自然\n",
      "  POS: 名詞\n",
      "  POS2: 形容動詞語幹\n",
      "  NE: O\n",
      "\n",
      "  token_begin: 18\n",
      "  token_end: 20\n",
      "  features: ['名詞', '一般', '*', '*', '*', '*', '言語', 'ゲンゴ', 'ゲンゴ']\n",
      "  lemma: 言語\n",
      "  POS: 名詞\n",
      "  POS2: 一般\n",
      "  NE: O\n",
      "\n",
      "  token_begin: 20\n",
      "  token_end: 22\n",
      "  features: ['名詞', 'サ変接続', '*', '*', '*', '*', '処理', 'ショリ', 'ショリ']\n",
      "  lemma: 処理\n",
      "  POS: 名詞\n",
      "  POS2: サ変接続\n",
      "  NE: O\n",
      "\n",
      "  token_begin: 22\n",
      "  token_end: 23\n",
      "  features: ['助詞', '格助詞', '一般', '*', '*', '*', 'を', 'ヲ', 'ヲ']\n",
      "  lemma: を\n",
      "  POS: 助詞\n",
      "  POS2: 格助詞\n",
      "  NE: O\n",
      "\n",
      "chunk:\n",
      "  token_begin: 23\n",
      "  token_end: 25\n",
      "  features: ['動詞', '自立', '*', '*', '五段・バ行', '基本形', '学ぶ', 'マナブ', 'マナブ']\n",
      "  lemma: 学ぶ\n",
      "  POS: 動詞\n",
      "  POS2: 自立\n",
      "  NE: O\n",
      "\n",
      "  token_begin: 25\n",
      "  token_end: 26\n",
      "  features: ['記号', '句点', '*', '*', '*', '*', '。', '。', '。']\n",
      "  lemma: 。\n",
      "  POS: 記号\n",
      "  POS2: 句点\n",
      "  NE: O\n",
      "\n",
      " chunk_link: -1\n",
      " chunk_begin: 23\n",
      " chunk_end: 26\n",
      "\n"
     ]
    }
   ],
   "source": [
    "cabocha = CaboCha.Parser('-n1')\n",
    "def parse_sentence(sentence_str, sentence_begin):\n",
    "    tree = cabocha.parse(sentence_str)\n",
    "    \n",
    "    offset = sentence_begin\n",
    "    text = sentence_str\n",
    "    for i in range(tree.chunk_size()):\n",
    "        chunk = tree.chunk(i)\n",
    "        chunk_begin = None\n",
    "        \n",
    "        print('chunk:')\n",
    "        \n",
    "        for j in range(\n",
    "        chunk.token_pos,\n",
    "        chunk.token_pos + chunk.token_size):\n",
    "            token = tree.token(j)\n",
    "            features = token.feature.split(',')\n",
    "            token_begin = text.find(token.surface) + offset\n",
    "            token_end = token_begin + len(token.surface)\n",
    "            if chunk_begin is None:\n",
    "                chunk_begin = token_begin\n",
    "            print('  token_begin:', token_begin)\n",
    "            print('  token_end:',   token_end)\n",
    "            print('  features:',    features)\n",
    "            print('  lemma:',       features[-3])\n",
    "            print('  POS:',         features[0])\n",
    "            print('  POS2:',        features[1])\n",
    "            print('  NE:',          token.ne)\n",
    "            print()\n",
    "            \n",
    "            text = text[token_end-offset:]\n",
    "            offset = token_end\n",
    "    chunk_end = token_end\n",
    "    print(' chunk_link:',   chunk.link)\n",
    "    print(' chunk_begin:',  chunk_begin)\n",
    "    print(' chunk_end:',    chunk_end)\n",
    "    print()\n",
    "\n",
    "if __name__ == '__main__':\n",
    "    parse_sentence('プログラムを作って、動かしながら自然言語処理を学ぶ。',0)"
   ]
  },
  {
   "cell_type": "code",
   "execution_count": null,
   "metadata": {},
   "outputs": [],
   "source": []
  }
 ],
 "metadata": {
  "kernelspec": {
   "display_name": "Python 3",
   "language": "python",
   "name": "python3"
  },
  "language_info": {
   "codemirror_mode": {
    "name": "ipython",
    "version": 3
   },
   "file_extension": ".py",
   "mimetype": "text/x-python",
   "name": "python",
   "nbconvert_exporter": "python",
   "pygments_lexer": "ipython3",
   "version": "3.6.7"
  },
  "varInspector": {
   "cols": {
    "lenName": 16,
    "lenType": 16,
    "lenVar": 40
   },
   "kernels_config": {
    "python": {
     "delete_cmd_postfix": "",
     "delete_cmd_prefix": "del ",
     "library": "var_list.py",
     "varRefreshCmd": "print(var_dic_list())"
    },
    "r": {
     "delete_cmd_postfix": ") ",
     "delete_cmd_prefix": "rm(",
     "library": "var_list.r",
     "varRefreshCmd": "cat(var_dic_list()) "
    }
   },
   "types_to_exclude": [
    "module",
    "function",
    "builtin_function_or_method",
    "instance",
    "_Feature"
   ],
   "window_display": false
  }
 },
 "nbformat": 4,
 "nbformat_minor": 2
}

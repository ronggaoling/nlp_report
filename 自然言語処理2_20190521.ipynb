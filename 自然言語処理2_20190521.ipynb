{
 "cells": [
  {
   "cell_type": "code",
   "execution_count": null,
   "metadata": {},
   "outputs": [],
   "source": [
    "import re\n",
    "import CaboCha\n",
    "\n",
    "cabocha = CaboCha.Parser('-n1')\n",
    "ptn_sentence = re.compiler(r'(^|。|!|<__EOS__>)\\s*8(.+?)(?=(。|!|<__EOS__>))',re.M)\n",
    "def split_into_sentense(text):\n",
    "    sentences = []\n",
    "    for m in pth_sentence.finditer(text):\n",
    "        sentences.append((m.group(2), m.start(2)))\n",
    "    return sentences\n",
    "\n",
    "def parse_sentence(sentence_str, sentence_begin, chunk, tokens):\n",
    "    tree = cabocha.parse(sentence_str)\n",
    "    \n",
    "    offset = sentence_begin\n",
    "    chunk_id_offset = len(chunks)\n",
    "    text = "
   ]
  }
 ],
 "metadata": {
  "kernelspec": {
   "display_name": "Python 3",
   "language": "python",
   "name": "python3"
  },
  "language_info": {
   "codemirror_mode": {
    "name": "ipython",
    "version": 3
   },
   "file_extension": ".py",
   "mimetype": "text/x-python",
   "name": "python",
   "nbconvert_exporter": "python",
   "pygments_lexer": "ipython3",
   "version": "3.6.7"
  },
  "varInspector": {
   "cols": {
    "lenName": 16,
    "lenType": 16,
    "lenVar": 40
   },
   "kernels_config": {
    "python": {
     "delete_cmd_postfix": "",
     "delete_cmd_prefix": "del ",
     "library": "var_list.py",
     "varRefreshCmd": "print(var_dic_list())"
    },
    "r": {
     "delete_cmd_postfix": ") ",
     "delete_cmd_prefix": "rm(",
     "library": "var_list.r",
     "varRefreshCmd": "cat(var_dic_list()) "
    }
   },
   "types_to_exclude": [
    "module",
    "function",
    "builtin_function_or_method",
    "instance",
    "_Feature"
   ],
   "window_display": false
  }
 },
 "nbformat": 4,
 "nbformat_minor": 2
}
